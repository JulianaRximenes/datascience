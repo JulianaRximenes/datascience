{
 "cells": [
  {
   "cell_type": "markdown",
   "metadata": {},
   "source": [
    "criar uma classe que ajude no controle financeiro.\n",
    "os atributos sao:\n",
    "- descrisao\n",
    "- valor\n",
    "- categoria\n",
    "\n"
   ]
  },
  {
   "cell_type": "code",
   "execution_count": 15,
   "metadata": {},
   "outputs": [
    {
     "ename": "NameError",
     "evalue": "name 'def__init__' is not defined",
     "output_type": "error",
     "traceback": [
      "\u001b[1;31m---------------------------------------------------------------------------\u001b[0m",
      "\u001b[1;31mNameError\u001b[0m                                 Traceback (most recent call last)",
      "Cell \u001b[1;32mIn[15], line 1\u001b[0m\n\u001b[1;32m----> 1\u001b[0m \u001b[38;5;28;43;01mclass\u001b[39;49;00m\u001b[43m \u001b[49m\u001b[38;5;21;43;01mcontrolefinanceiro\u001b[39;49;00m\u001b[43m:\u001b[49m\n\u001b[0;32m      2\u001b[0m \u001b[38;5;66;43;03m# esse e o contrutor (funcao especial)\u001b[39;49;00m\n\u001b[0;32m      3\u001b[0m \u001b[43m    \u001b[49m\u001b[43mdef__init__\u001b[49m\u001b[43m(\u001b[49m\u001b[38;5;28;43mself\u001b[39;49m\u001b[43m,\u001b[49m\u001b[43mdescricao\u001b[49m\u001b[43m,\u001b[49m\u001b[43mvalor\u001b[49m\u001b[43m,\u001b[49m\u001b[43mcategoria\u001b[49m\u001b[43m)\u001b[49m\n\u001b[0;32m      4\u001b[0m \u001b[43m    \u001b[49m\u001b[38;5;28;43mself\u001b[39;49m\u001b[38;5;241;43m.\u001b[39;49m\u001b[43mdescricao\u001b[49m\u001b[43m \u001b[49m\u001b[38;5;241;43m=\u001b[39;49m\u001b[43m \u001b[49m\u001b[43mdescricao\u001b[49m\n",
      "Cell \u001b[1;32mIn[15], line 3\u001b[0m, in \u001b[0;36mcontrolefinanceiro\u001b[1;34m()\u001b[0m\n\u001b[0;32m      1\u001b[0m \u001b[38;5;28;01mclass\u001b[39;00m \u001b[38;5;21;01mcontrolefinanceiro\u001b[39;00m:\n\u001b[0;32m      2\u001b[0m \u001b[38;5;66;03m# esse e o contrutor (funcao especial)\u001b[39;00m\n\u001b[1;32m----> 3\u001b[0m     \u001b[43mdef__init__\u001b[49m(\u001b[38;5;28mself\u001b[39m,descricao,valor,categoria)\n\u001b[0;32m      4\u001b[0m     \u001b[38;5;28mself\u001b[39m\u001b[38;5;241m.\u001b[39mdescricao \u001b[38;5;241m=\u001b[39m descricao\n\u001b[0;32m      5\u001b[0m     \u001b[38;5;28mself\u001b[39m\u001b[38;5;241m.\u001b[39mvalor \u001b[38;5;241m=\u001b[39m Valor\n",
      "\u001b[1;31mNameError\u001b[0m: name 'def__init__' is not defined"
     ]
    }
   ],
   "source": [
    "class controlefinanceiro:\n",
    "# esse e o contrutor (funcao especial)\n",
    "    def__init__(self,descricao,valor,categoria)\n",
    "    self.descricao = descricao\n",
    "    self.valor = Valor\n",
    "    self.categoria = categoria\n",
    "\n",
    "\n",
    "    def verificar_valor(self):\n",
    "        if self.valor > 3000:\n",
    "            return 'alerta cartao !!!'\n",
    "        \n",
    "        else:\n",
    "            return 'faca sua compra'"
   ]
  },
  {
   "cell_type": "code",
   "execution_count": null,
   "metadata": {},
   "outputs": [
    {
     "ename": "NameError",
     "evalue": "name 'controlefinanceiro' is not defined",
     "output_type": "error",
     "traceback": [
      "\u001b[1;31m---------------------------------------------------------------------------\u001b[0m",
      "\u001b[1;31mNameError\u001b[0m                                 Traceback (most recent call last)",
      "Cell \u001b[1;32mIn[9], line 1\u001b[0m\n\u001b[1;32m----> 1\u001b[0m cf \u001b[38;5;241m=\u001b[39m \u001b[43mcontrolefinanceiro\u001b[49m(\u001b[38;5;124m'\u001b[39m\u001b[38;5;124mcinermark familia\u001b[39m\u001b[38;5;124m'\u001b[39m,\u001b[38;5;241m180.25\u001b[39m,\u001b[38;5;124m'\u001b[39m\u001b[38;5;124mlazer\u001b[39m\u001b[38;5;124m'\u001b[39m)\n\u001b[0;32m      2\u001b[0m cf\u001b[38;5;241m.\u001b[39mverivicar_valor()\n",
      "\u001b[1;31mNameError\u001b[0m: name 'controlefinanceiro' is not defined"
     ]
    }
   ],
   "source": [
    "cf = controlefinanceiro('cinermark familia',180.25,'lazer')\n",
    "cf.verivicar_valor()"
   ]
  },
  {
   "cell_type": "markdown",
   "metadata": {},
   "source": [
    "# Desafio\n",
    "\n",
    "- criar uma classe com o nome matematica\n",
    "- criar um construtor com dois atributos com os nomes X e Y\n",
    "- criar um metodo para somar X e Y\n",
    "- criar um metodo para dividir X e Y\n",
    "- criar um metodo para calcular a media aritmética de x e y\n",
    "- Criar um método para calcular a média ponderada com peso 1 e 2"
   ]
  },
  {
   "cell_type": "code",
   "execution_count": 4,
   "metadata": {},
   "outputs": [
    {
     "ename": "SyntaxError",
     "evalue": "invalid syntax (1042105838.py, line 3)",
     "output_type": "error",
     "traceback": [
      "\u001b[1;36m  Cell \u001b[1;32mIn[4], line 3\u001b[1;36m\u001b[0m\n\u001b[1;33m    def__init__(self,x,y):\u001b[0m\n\u001b[1;37m                         ^\u001b[0m\n\u001b[1;31mSyntaxError\u001b[0m\u001b[1;31m:\u001b[0m invalid syntax\n"
     ]
    }
   ],
   "source": [
    "class matematica():\n",
    "\n",
    "     def__init__(self,x,y):\n",
    "     \n",
    "     self.x = x\n",
    "     self.y = y\n",
    "     def soma(self):\n",
    "          return self.x + self.y\n",
    "     def subtrair(self):\n",
    "          return self.x - self.y\n",
    "     def dividir(self):\n",
    "          if self.y ==0\n",
    "\n",
    "          return 'nao pode ser dividido'\n",
    "          else:\n",
    "          return self.x/self.y\n",
    "     def media (self):\n",
    "          return (self.x + self.y)/2\n",
    "     def media_ponderada(self):\n",
    "          return((self.x *1 + self.y *2)/3)\n",
    "     \n",
    "     \n",
    "     "
   ]
  },
  {
   "cell_type": "code",
   "execution_count": 7,
   "metadata": {},
   "outputs": [
    {
     "ename": "NameError",
     "evalue": "name 'matematica' is not defined",
     "output_type": "error",
     "traceback": [
      "\u001b[1;31m---------------------------------------------------------------------------\u001b[0m",
      "\u001b[1;31mNameError\u001b[0m                                 Traceback (most recent call last)",
      "Cell \u001b[1;32mIn[7], line 1\u001b[0m\n\u001b[1;32m----> 1\u001b[0m m \u001b[38;5;241m=\u001b[39m \u001b[43mmatematica\u001b[49m (\u001b[38;5;241m10\u001b[39m,\u001b[38;5;241m20\u001b[39m)\n\u001b[0;32m      2\u001b[0m m\u001b[38;5;241m.\u001b[39msomar()\n",
      "\u001b[1;31mNameError\u001b[0m: name 'matematica' is not defined"
     ]
    }
   ],
   "source": [
    "m = matematica (10,20)\n",
    "m.somar()"
   ]
  },
  {
   "cell_type": "code",
   "execution_count": null,
   "metadata": {},
   "outputs": [],
   "source": [
    "m.subtrair()"
   ]
  },
  {
   "cell_type": "code",
   "execution_count": null,
   "metadata": {},
   "outputs": [],
   "source": [
    "m.media()"
   ]
  },
  {
   "cell_type": "code",
   "execution_count": null,
   "metadata": {},
   "outputs": [],
   "source": [
    "m.media_ponderada()"
   ]
  },
  {
   "cell_type": "code",
   "execution_count": 5,
   "metadata": {},
   "outputs": [
    {
     "ename": "NameError",
     "evalue": "name 'm' is not defined",
     "output_type": "error",
     "traceback": [
      "\u001b[1;31m---------------------------------------------------------------------------\u001b[0m",
      "\u001b[1;31mNameError\u001b[0m                                 Traceback (most recent call last)",
      "Cell \u001b[1;32mIn[5], line 1\u001b[0m\n\u001b[1;32m----> 1\u001b[0m \u001b[43mm\u001b[49m\u001b[38;5;241m.\u001b[39mdividir()\n",
      "\u001b[1;31mNameError\u001b[0m: name 'm' is not defined"
     ]
    }
   ],
   "source": [
    "m.dividir()"
   ]
  },
  {
   "cell_type": "code",
   "execution_count": 1,
   "metadata": {},
   "outputs": [],
   "source": [
    "import pandas as pd"
   ]
  },
  {
   "cell_type": "code",
   "execution_count": null,
   "metadata": {},
   "outputs": [],
   "source": []
  }
 ],
 "metadata": {
  "kernelspec": {
   "display_name": ".venv",
   "language": "python",
   "name": "python3"
  },
  "language_info": {
   "codemirror_mode": {
    "name": "ipython",
    "version": 3
   },
   "file_extension": ".py",
   "mimetype": "text/x-python",
   "name": "python",
   "nbconvert_exporter": "python",
   "pygments_lexer": "ipython3",
   "version": "3.12.4"
  }
 },
 "nbformat": 4,
 "nbformat_minor": 2
}
