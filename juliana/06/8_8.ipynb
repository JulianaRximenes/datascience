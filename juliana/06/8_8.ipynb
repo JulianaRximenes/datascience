{
 "cells": [
  {
   "cell_type": "markdown",
   "metadata": {},
   "source": [
    "# PYTHON DEVELOPER {FRONT-END}\n",
    "NOSSO OBJETIVO: CRIAR TELAS (INTERFACE GRAFICA)\n",
    "- PROTOTIPOS (WIREFRAMES)\n",
    "- PROTOTIPOS FUNCIONAL (HTML E FIGMA)\n",
    "- APLICAÇÕES WEB (HTML, CSS, BOOTSTRAP, JINJA 2)"
   ]
  },
  {
   "cell_type": "markdown",
   "metadata": {},
   "source": [
    "- STACK FRONT-END---------------- JAVA\n",
    "- FRONT-END-----------------------PYTHON\n",
    "- FRONT-END-----------------------PHP\n",
    "\n"
   ]
  },
  {
   "cell_type": "markdown",
   "metadata": {},
   "source": [
    "html5 (site) ---> front-end"
   ]
  },
  {
   "cell_type": "markdown",
   "metadata": {},
   "source": []
  }
 ],
 "metadata": {
  "language_info": {
   "name": "python"
  }
 },
 "nbformat": 4,
 "nbformat_minor": 2
}
