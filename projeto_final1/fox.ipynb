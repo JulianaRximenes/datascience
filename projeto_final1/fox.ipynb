{
 "cells": [
  {
   "cell_type": "markdown",
   "metadata": {},
   "source": [
    "# METODOS\n",
    "\n",
    "GIT\n",
    "\n",
    "- Get \n",
    "- post\n",
    "- put\n",
    "- patch\n",
    "- delet\n",
    "- head\n",
    "- options"
   ]
  },
  {
   "cell_type": "code",
   "execution_count": null,
   "metadata": {},
   "outputs": [],
   "source": []
  }
 ],
 "metadata": {
  "language_info": {
   "name": "python"
  }
 },
 "nbformat": 4,
 "nbformat_minor": 2
}
