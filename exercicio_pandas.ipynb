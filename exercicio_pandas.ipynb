{
 "cells": [
  {
   "cell_type": "markdown",
   "metadata": {},
   "source": [
    "# Competencias pandas\n",
    "\n",
    "- entender as funcoes basicas\n",
    "- urilizar as funcoes basicas\n",
    "- renomear colunas \n",
    "- selecionar colunas e linhas \n",
    "- adicionas colunas e linhas \n",
    "- realizar consulta\n",
    "- ordenar itens\n",
    "- combinar e concatenar dataframe\n",
    "- salvar dataframe\n"
   ]
  },
  {
   "cell_type": "markdown",
   "metadata": {},
   "source": [
    "### Entender as funcoes basicas "
   ]
  },
  {
   "cell_type": "markdown",
   "metadata": {},
   "source": [
    "- head() - retorna as primeiras n linhas de um dataframe\n",
    "\n",
    "- tail() - retorna n linhas de um dataframe\n",
    "\n",
    "- shape: retorna o numrto de linhas e coluna\n",
    "- info(): numero de colunas, contagem de celulas, tipo e memoria usada\n",
    "- columns: mostra todas as colunas\n",
    "- count(): conta as celulas preenchidas\n"
   ]
  },
  {
   "cell_type": "code",
   "execution_count": null,
   "metadata": {},
   "outputs": [],
   "source": [
    "\n"
   ]
  },
  {
   "cell_type": "code",
   "execution_count": null,
   "metadata": {},
   "outputs": [],
   "source": []
  }
 ],
 "metadata": {
  "language_info": {
   "name": "python"
  }
 },
 "nbformat": 4,
 "nbformat_minor": 2
}
